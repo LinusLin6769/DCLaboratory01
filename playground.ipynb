{
 "cells": [
  {
   "cell_type": "markdown",
   "metadata": {},
   "source": [
    "This notebook is where I run tests or prepare the datasets."
   ]
  },
  {
   "cell_type": "code",
   "execution_count": 1,
   "metadata": {},
   "outputs": [],
   "source": [
    "import data_prep\n",
    "import pandas as pd\n",
    "import numpy as np\n",
    "import matplotlib.pyplot as plt\n",
    "from pprint import pprint\n",
    "from datetime import datetime"
   ]
  },
  {
   "cell_type": "code",
   "execution_count": 2,
   "metadata": {},
   "outputs": [
    {
     "name": "stdout",
     "output_type": "stream",
     "text": [
      "29-06-2022 18:50:39\n"
     ]
    }
   ],
   "source": [
    "# datetime object containing current date and time\n",
    "now = datetime.now()\n",
    "\n",
    "# dd/mm/YY H:M:S\n",
    "start = now.strftime(\"%d-%m-%Y %H:%M:%S\")\n",
    "print(start)"
   ]
  },
  {
   "cell_type": "code",
   "execution_count": 3,
   "metadata": {},
   "outputs": [
    {
     "data": {
      "text/html": [
       "<div>\n",
       "<style scoped>\n",
       "    .dataframe tbody tr th:only-of-type {\n",
       "        vertical-align: middle;\n",
       "    }\n",
       "\n",
       "    .dataframe tbody tr th {\n",
       "        vertical-align: top;\n",
       "    }\n",
       "\n",
       "    .dataframe thead th {\n",
       "        text-align: right;\n",
       "    }\n",
       "</style>\n",
       "<table border=\"1\" class=\"dataframe\">\n",
       "  <thead>\n",
       "    <tr style=\"text-align: right;\">\n",
       "      <th></th>\n",
       "      <th>series_name</th>\n",
       "      <th>start_timestamp</th>\n",
       "      <th>series_value</th>\n",
       "    </tr>\n",
       "  </thead>\n",
       "  <tbody>\n",
       "    <tr>\n",
       "      <th>0</th>\n",
       "      <td>T1</td>\n",
       "      <td>1990-01-01</td>\n",
       "      <td>[2640.0, 2640.0, 2160.0, 4200.0, 3360.0, 2400....</td>\n",
       "    </tr>\n",
       "    <tr>\n",
       "      <th>1</th>\n",
       "      <td>T2</td>\n",
       "      <td>1990-01-01</td>\n",
       "      <td>[1680.0, 1920.0, 120.0, 1080.0, 840.0, 1440.0,...</td>\n",
       "    </tr>\n",
       "    <tr>\n",
       "      <th>2</th>\n",
       "      <td>T3</td>\n",
       "      <td>1990-01-01</td>\n",
       "      <td>[1140.0, 720.0, 4860.0, 1200.0, 3150.0, 2130.0...</td>\n",
       "    </tr>\n",
       "    <tr>\n",
       "      <th>3</th>\n",
       "      <td>T4</td>\n",
       "      <td>1990-01-01</td>\n",
       "      <td>[180.0, 940.0, 2040.0, 800.0, 1000.0, 520.0, 5...</td>\n",
       "    </tr>\n",
       "    <tr>\n",
       "      <th>4</th>\n",
       "      <td>T5</td>\n",
       "      <td>1990-01-01</td>\n",
       "      <td>[2000.0, 1550.0, 4450.0, 3050.0, 3050.0, 2250....</td>\n",
       "    </tr>\n",
       "  </tbody>\n",
       "</table>\n",
       "</div>"
      ],
      "text/plain": [
       "  series_name start_timestamp  \\\n",
       "0          T1      1990-01-01   \n",
       "1          T2      1990-01-01   \n",
       "2          T3      1990-01-01   \n",
       "3          T4      1990-01-01   \n",
       "4          T5      1990-01-01   \n",
       "\n",
       "                                        series_value  \n",
       "0  [2640.0, 2640.0, 2160.0, 4200.0, 3360.0, 2400....  \n",
       "1  [1680.0, 1920.0, 120.0, 1080.0, 840.0, 1440.0,...  \n",
       "2  [1140.0, 720.0, 4860.0, 1200.0, 3150.0, 2130.0...  \n",
       "3  [180.0, 940.0, 2040.0, 800.0, 1000.0, 520.0, 5...  \n",
       "4  [2000.0, 1550.0, 4450.0, 3050.0, 3050.0, 2250....  "
      ]
     },
     "execution_count": 3,
     "metadata": {},
     "output_type": "execute_result"
    }
   ],
   "source": [
    "df, frequency, forecast_horizon, missing_values, equal_len = data_prep.convert_tsf_to_dataframe('datasets/m3_monthly_dataset.tsf')\n",
    "df.head()"
   ]
  },
  {
   "cell_type": "code",
   "execution_count": 4,
   "metadata": {},
   "outputs": [
    {
     "name": "stdout",
     "output_type": "stream",
     "text": [
      "1428 monthly 18 False False\n"
     ]
    }
   ],
   "source": [
    "print(len(df), frequency, forecast_horizon, missing_values, equal_len)"
   ]
  },
  {
   "cell_type": "code",
   "execution_count": 5,
   "metadata": {},
   "outputs": [],
   "source": [
    "arr = df.values\n",
    "arr = arr.T\n",
    "d = {i: list(a) for i, a in enumerate(arr[2])}\n"
   ]
  },
  {
   "cell_type": "code",
   "execution_count": 7,
   "metadata": {},
   "outputs": [
    {
     "name": "stdout",
     "output_type": "stream",
     "text": [
      "799 137.13266583229037\n"
     ]
    }
   ],
   "source": [
    "lens = []\n",
    "min_len = 130\n",
    "for k, v in d.items():\n",
    "    l = len(v)\n",
    "    if l >= min_len:\n",
    "        lens.append(l)\n",
    "\n",
    "print(len(lens), np.mean(lens))"
   ]
  },
  {
   "cell_type": "code",
   "execution_count": 8,
   "metadata": {},
   "outputs": [
    {
     "name": "stderr",
     "output_type": "stream",
     "text": [
      "/home/yukuan.lin/Desktop/DCTransformation/dclab01/lib/python3.8/site-packages/sklearn/neural_network/_multilayer_perceptron.py:1607: DataConversionWarning: A column-vector y was passed when a 1d array was expected. Please change the shape of y to (n_samples, ), for example using ravel().\n",
      "  y = column_or_1d(y, warn=True)\n",
      "/home/yukuan.lin/Desktop/DCTransformation/dclab01/lib/python3.8/site-packages/sklearn/neural_network/_multilayer_perceptron.py:702: ConvergenceWarning: Stochastic Optimizer: Maximum iterations (200) reached and the optimization hasn't converged yet.\n",
      "  warnings.warn(\n"
     ]
    },
    {
     "data": {
      "text/html": [
       "<style>#sk-container-id-1 {color: black;background-color: white;}#sk-container-id-1 pre{padding: 0;}#sk-container-id-1 div.sk-toggleable {background-color: white;}#sk-container-id-1 label.sk-toggleable__label {cursor: pointer;display: block;width: 100%;margin-bottom: 0;padding: 0.3em;box-sizing: border-box;text-align: center;}#sk-container-id-1 label.sk-toggleable__label-arrow:before {content: \"▸\";float: left;margin-right: 0.25em;color: #696969;}#sk-container-id-1 label.sk-toggleable__label-arrow:hover:before {color: black;}#sk-container-id-1 div.sk-estimator:hover label.sk-toggleable__label-arrow:before {color: black;}#sk-container-id-1 div.sk-toggleable__content {max-height: 0;max-width: 0;overflow: hidden;text-align: left;background-color: #f0f8ff;}#sk-container-id-1 div.sk-toggleable__content pre {margin: 0.2em;color: black;border-radius: 0.25em;background-color: #f0f8ff;}#sk-container-id-1 input.sk-toggleable__control:checked~div.sk-toggleable__content {max-height: 200px;max-width: 100%;overflow: auto;}#sk-container-id-1 input.sk-toggleable__control:checked~label.sk-toggleable__label-arrow:before {content: \"▾\";}#sk-container-id-1 div.sk-estimator input.sk-toggleable__control:checked~label.sk-toggleable__label {background-color: #d4ebff;}#sk-container-id-1 div.sk-label input.sk-toggleable__control:checked~label.sk-toggleable__label {background-color: #d4ebff;}#sk-container-id-1 input.sk-hidden--visually {border: 0;clip: rect(1px 1px 1px 1px);clip: rect(1px, 1px, 1px, 1px);height: 1px;margin: -1px;overflow: hidden;padding: 0;position: absolute;width: 1px;}#sk-container-id-1 div.sk-estimator {font-family: monospace;background-color: #f0f8ff;border: 1px dotted black;border-radius: 0.25em;box-sizing: border-box;margin-bottom: 0.5em;}#sk-container-id-1 div.sk-estimator:hover {background-color: #d4ebff;}#sk-container-id-1 div.sk-parallel-item::after {content: \"\";width: 100%;border-bottom: 1px solid gray;flex-grow: 1;}#sk-container-id-1 div.sk-label:hover label.sk-toggleable__label {background-color: #d4ebff;}#sk-container-id-1 div.sk-serial::before {content: \"\";position: absolute;border-left: 1px solid gray;box-sizing: border-box;top: 0;bottom: 0;left: 50%;z-index: 0;}#sk-container-id-1 div.sk-serial {display: flex;flex-direction: column;align-items: center;background-color: white;padding-right: 0.2em;padding-left: 0.2em;position: relative;}#sk-container-id-1 div.sk-item {position: relative;z-index: 1;}#sk-container-id-1 div.sk-parallel {display: flex;align-items: stretch;justify-content: center;background-color: white;position: relative;}#sk-container-id-1 div.sk-item::before, #sk-container-id-1 div.sk-parallel-item::before {content: \"\";position: absolute;border-left: 1px solid gray;box-sizing: border-box;top: 0;bottom: 0;left: 50%;z-index: -1;}#sk-container-id-1 div.sk-parallel-item {display: flex;flex-direction: column;z-index: 1;position: relative;background-color: white;}#sk-container-id-1 div.sk-parallel-item:first-child::after {align-self: flex-end;width: 50%;}#sk-container-id-1 div.sk-parallel-item:last-child::after {align-self: flex-start;width: 50%;}#sk-container-id-1 div.sk-parallel-item:only-child::after {width: 0;}#sk-container-id-1 div.sk-dashed-wrapped {border: 1px dashed gray;margin: 0 0.4em 0.5em 0.4em;box-sizing: border-box;padding-bottom: 0.4em;background-color: white;}#sk-container-id-1 div.sk-label label {font-family: monospace;font-weight: bold;display: inline-block;line-height: 1.2em;}#sk-container-id-1 div.sk-label-container {text-align: center;}#sk-container-id-1 div.sk-container {/* jupyter's `normalize.less` sets `[hidden] { display: none; }` but bootstrap.min.css set `[hidden] { display: none !important; }` so we also need the `!important` here to be able to override the default hidden behavior on the sphinx rendered scikit-learn.org. See: https://github.com/scikit-learn/scikit-learn/issues/21755 */display: inline-block !important;position: relative;}#sk-container-id-1 div.sk-text-repr-fallback {display: none;}</style><div id=\"sk-container-id-1\" class=\"sk-top-container\"><div class=\"sk-text-repr-fallback\"><pre>MLPRegressor(hidden_layer_sizes=(10,))</pre><b>In a Jupyter environment, please rerun this cell to show the HTML representation or trust the notebook. <br />On GitHub, the HTML representation is unable to render, please try loading this page with nbviewer.org.</b></div><div class=\"sk-container\" hidden><div class=\"sk-item\"><div class=\"sk-estimator sk-toggleable\"><input class=\"sk-toggleable__control sk-hidden--visually\" id=\"sk-estimator-id-1\" type=\"checkbox\" checked><label for=\"sk-estimator-id-1\" class=\"sk-toggleable__label sk-toggleable__label-arrow\">MLPRegressor</label><div class=\"sk-toggleable__content\"><pre>MLPRegressor(hidden_layer_sizes=(10,))</pre></div></div></div></div></div>"
      ],
      "text/plain": [
       "MLPRegressor(hidden_layer_sizes=(10,))"
      ]
     },
     "execution_count": 8,
     "metadata": {},
     "output_type": "execute_result"
    }
   ],
   "source": [
    "ls = d[1]\n",
    "\n",
    "ls_x, ls_y = data_prep.ts_prep(ls, nlag=3, horizon=1)\n",
    "\n",
    "from sklearn.neural_network import MLPRegressor\n",
    "\n",
    "m = MLPRegressor(hidden_layer_sizes=(10, ))\n",
    "m.fit(ls_x, ls_y)\n"
   ]
  },
  {
   "cell_type": "code",
   "execution_count": 11,
   "metadata": {},
   "outputs": [
    {
     "data": {
      "text/html": [
       "<style>#sk-container-id-5 {color: black;background-color: white;}#sk-container-id-5 pre{padding: 0;}#sk-container-id-5 div.sk-toggleable {background-color: white;}#sk-container-id-5 label.sk-toggleable__label {cursor: pointer;display: block;width: 100%;margin-bottom: 0;padding: 0.3em;box-sizing: border-box;text-align: center;}#sk-container-id-5 label.sk-toggleable__label-arrow:before {content: \"▸\";float: left;margin-right: 0.25em;color: #696969;}#sk-container-id-5 label.sk-toggleable__label-arrow:hover:before {color: black;}#sk-container-id-5 div.sk-estimator:hover label.sk-toggleable__label-arrow:before {color: black;}#sk-container-id-5 div.sk-toggleable__content {max-height: 0;max-width: 0;overflow: hidden;text-align: left;background-color: #f0f8ff;}#sk-container-id-5 div.sk-toggleable__content pre {margin: 0.2em;color: black;border-radius: 0.25em;background-color: #f0f8ff;}#sk-container-id-5 input.sk-toggleable__control:checked~div.sk-toggleable__content {max-height: 200px;max-width: 100%;overflow: auto;}#sk-container-id-5 input.sk-toggleable__control:checked~label.sk-toggleable__label-arrow:before {content: \"▾\";}#sk-container-id-5 div.sk-estimator input.sk-toggleable__control:checked~label.sk-toggleable__label {background-color: #d4ebff;}#sk-container-id-5 div.sk-label input.sk-toggleable__control:checked~label.sk-toggleable__label {background-color: #d4ebff;}#sk-container-id-5 input.sk-hidden--visually {border: 0;clip: rect(1px 1px 1px 1px);clip: rect(1px, 1px, 1px, 1px);height: 1px;margin: -1px;overflow: hidden;padding: 0;position: absolute;width: 1px;}#sk-container-id-5 div.sk-estimator {font-family: monospace;background-color: #f0f8ff;border: 1px dotted black;border-radius: 0.25em;box-sizing: border-box;margin-bottom: 0.5em;}#sk-container-id-5 div.sk-estimator:hover {background-color: #d4ebff;}#sk-container-id-5 div.sk-parallel-item::after {content: \"\";width: 100%;border-bottom: 1px solid gray;flex-grow: 1;}#sk-container-id-5 div.sk-label:hover label.sk-toggleable__label {background-color: #d4ebff;}#sk-container-id-5 div.sk-serial::before {content: \"\";position: absolute;border-left: 1px solid gray;box-sizing: border-box;top: 0;bottom: 0;left: 50%;z-index: 0;}#sk-container-id-5 div.sk-serial {display: flex;flex-direction: column;align-items: center;background-color: white;padding-right: 0.2em;padding-left: 0.2em;position: relative;}#sk-container-id-5 div.sk-item {position: relative;z-index: 1;}#sk-container-id-5 div.sk-parallel {display: flex;align-items: stretch;justify-content: center;background-color: white;position: relative;}#sk-container-id-5 div.sk-item::before, #sk-container-id-5 div.sk-parallel-item::before {content: \"\";position: absolute;border-left: 1px solid gray;box-sizing: border-box;top: 0;bottom: 0;left: 50%;z-index: -1;}#sk-container-id-5 div.sk-parallel-item {display: flex;flex-direction: column;z-index: 1;position: relative;background-color: white;}#sk-container-id-5 div.sk-parallel-item:first-child::after {align-self: flex-end;width: 50%;}#sk-container-id-5 div.sk-parallel-item:last-child::after {align-self: flex-start;width: 50%;}#sk-container-id-5 div.sk-parallel-item:only-child::after {width: 0;}#sk-container-id-5 div.sk-dashed-wrapped {border: 1px dashed gray;margin: 0 0.4em 0.5em 0.4em;box-sizing: border-box;padding-bottom: 0.4em;background-color: white;}#sk-container-id-5 div.sk-label label {font-family: monospace;font-weight: bold;display: inline-block;line-height: 1.2em;}#sk-container-id-5 div.sk-label-container {text-align: center;}#sk-container-id-5 div.sk-container {/* jupyter's `normalize.less` sets `[hidden] { display: none; }` but bootstrap.min.css set `[hidden] { display: none !important; }` so we also need the `!important` here to be able to override the default hidden behavior on the sphinx rendered scikit-learn.org. See: https://github.com/scikit-learn/scikit-learn/issues/21755 */display: inline-block !important;position: relative;}#sk-container-id-5 div.sk-text-repr-fallback {display: none;}</style><div id=\"sk-container-id-5\" class=\"sk-top-container\"><div class=\"sk-text-repr-fallback\"><pre>XGBRegressor(base_score=0.5, booster=&#x27;gbtree&#x27;, callbacks=None,\n",
       "             colsample_bylevel=1, colsample_bynode=1, colsample_bytree=1,\n",
       "             early_stopping_rounds=None, enable_categorical=False,\n",
       "             eval_metric=None, gamma=0, gpu_id=-1, grow_policy=&#x27;depthwise&#x27;,\n",
       "             importance_type=None, interaction_constraints=&#x27;&#x27;,\n",
       "             learning_rate=0.300000012, max_bin=256, max_cat_to_onehot=4,\n",
       "             max_delta_step=0, max_depth=5, max_leaves=0, min_child_weight=1,\n",
       "             missing=nan, monotone_constraints=&#x27;()&#x27;, n_estimators=100, n_jobs=0,\n",
       "             num_parallel_tree=1, predictor=&#x27;auto&#x27;, random_state=0, reg_alpha=0,\n",
       "             reg_lambda=1, ...)</pre><b>In a Jupyter environment, please rerun this cell to show the HTML representation or trust the notebook. <br />On GitHub, the HTML representation is unable to render, please try loading this page with nbviewer.org.</b></div><div class=\"sk-container\" hidden><div class=\"sk-item\"><div class=\"sk-estimator sk-toggleable\"><input class=\"sk-toggleable__control sk-hidden--visually\" id=\"sk-estimator-id-5\" type=\"checkbox\" checked><label for=\"sk-estimator-id-5\" class=\"sk-toggleable__label sk-toggleable__label-arrow\">XGBRegressor</label><div class=\"sk-toggleable__content\"><pre>XGBRegressor(base_score=0.5, booster=&#x27;gbtree&#x27;, callbacks=None,\n",
       "             colsample_bylevel=1, colsample_bynode=1, colsample_bytree=1,\n",
       "             early_stopping_rounds=None, enable_categorical=False,\n",
       "             eval_metric=None, gamma=0, gpu_id=-1, grow_policy=&#x27;depthwise&#x27;,\n",
       "             importance_type=None, interaction_constraints=&#x27;&#x27;,\n",
       "             learning_rate=0.300000012, max_bin=256, max_cat_to_onehot=4,\n",
       "             max_delta_step=0, max_depth=5, max_leaves=0, min_child_weight=1,\n",
       "             missing=nan, monotone_constraints=&#x27;()&#x27;, n_estimators=100, n_jobs=0,\n",
       "             num_parallel_tree=1, predictor=&#x27;auto&#x27;, random_state=0, reg_alpha=0,\n",
       "             reg_lambda=1, ...)</pre></div></div></div></div></div>"
      ],
      "text/plain": [
       "XGBRegressor(base_score=0.5, booster='gbtree', callbacks=None,\n",
       "             colsample_bylevel=1, colsample_bynode=1, colsample_bytree=1,\n",
       "             early_stopping_rounds=None, enable_categorical=False,\n",
       "             eval_metric=None, gamma=0, gpu_id=-1, grow_policy='depthwise',\n",
       "             importance_type=None, interaction_constraints='',\n",
       "             learning_rate=0.300000012, max_bin=256, max_cat_to_onehot=4,\n",
       "             max_delta_step=0, max_depth=5, max_leaves=0, min_child_weight=1,\n",
       "             missing=nan, monotone_constraints='()', n_estimators=100, n_jobs=0,\n",
       "             num_parallel_tree=1, predictor='auto', random_state=0, reg_alpha=0,\n",
       "             reg_lambda=1, ...)"
      ]
     },
     "execution_count": 11,
     "metadata": {},
     "output_type": "execute_result"
    }
   ],
   "source": [
    "import xgboost as xgb\n",
    "\n",
    "train_ls_x = ls_x[:-5]\n",
    "train_ls_y = ls_y[:-5]\n",
    "\n",
    "xgbreg = xgb.XGBRegressor(\n",
    "    max_depth=5,\n",
    "    booster='gbtree',\n",
    "    subsample=0.5\n",
    ")\n",
    "xgbreg.fit(X=train_ls_x, y=train_ls_y)"
   ]
  },
  {
   "cell_type": "code",
   "execution_count": 12,
   "metadata": {},
   "outputs": [
    {
     "data": {
      "text/plain": [
       "array([[1080.],\n",
       "       [ 840.],\n",
       "       [1440.]])"
      ]
     },
     "execution_count": 12,
     "metadata": {},
     "output_type": "execute_result"
    }
   ],
   "source": [
    "train_ls_y[:3]"
   ]
  },
  {
   "cell_type": "code",
   "execution_count": 13,
   "metadata": {},
   "outputs": [
    {
     "data": {
      "text/plain": [
       "array([[1680., 1920.,  120.],\n",
       "       [1920.,  120., 1080.],\n",
       "       [ 120., 1080.,  840.]])"
      ]
     },
     "execution_count": 13,
     "metadata": {},
     "output_type": "execute_result"
    }
   ],
   "source": [
    "train_ls_x[:3]"
   ]
  },
  {
   "cell_type": "code",
   "execution_count": 14,
   "metadata": {},
   "outputs": [
    {
     "data": {
      "text/plain": [
       "array([1320., 1320., 2280.])"
      ]
     },
     "execution_count": 14,
     "metadata": {},
     "output_type": "execute_result"
    }
   ],
   "source": [
    "ls_x[-1]"
   ]
  },
  {
   "cell_type": "code",
   "execution_count": 15,
   "metadata": {},
   "outputs": [
    {
     "data": {
      "text/plain": [
       "1701.307"
      ]
     },
     "execution_count": 15,
     "metadata": {},
     "output_type": "execute_result"
    }
   ],
   "source": [
    "xgbreg.predict([ls_x[-1]])[0]"
   ]
  },
  {
   "cell_type": "code",
   "execution_count": 16,
   "metadata": {},
   "outputs": [
    {
     "data": {
      "text/html": [
       "<style>#sk-container-id-6 {color: black;background-color: white;}#sk-container-id-6 pre{padding: 0;}#sk-container-id-6 div.sk-toggleable {background-color: white;}#sk-container-id-6 label.sk-toggleable__label {cursor: pointer;display: block;width: 100%;margin-bottom: 0;padding: 0.3em;box-sizing: border-box;text-align: center;}#sk-container-id-6 label.sk-toggleable__label-arrow:before {content: \"▸\";float: left;margin-right: 0.25em;color: #696969;}#sk-container-id-6 label.sk-toggleable__label-arrow:hover:before {color: black;}#sk-container-id-6 div.sk-estimator:hover label.sk-toggleable__label-arrow:before {color: black;}#sk-container-id-6 div.sk-toggleable__content {max-height: 0;max-width: 0;overflow: hidden;text-align: left;background-color: #f0f8ff;}#sk-container-id-6 div.sk-toggleable__content pre {margin: 0.2em;color: black;border-radius: 0.25em;background-color: #f0f8ff;}#sk-container-id-6 input.sk-toggleable__control:checked~div.sk-toggleable__content {max-height: 200px;max-width: 100%;overflow: auto;}#sk-container-id-6 input.sk-toggleable__control:checked~label.sk-toggleable__label-arrow:before {content: \"▾\";}#sk-container-id-6 div.sk-estimator input.sk-toggleable__control:checked~label.sk-toggleable__label {background-color: #d4ebff;}#sk-container-id-6 div.sk-label input.sk-toggleable__control:checked~label.sk-toggleable__label {background-color: #d4ebff;}#sk-container-id-6 input.sk-hidden--visually {border: 0;clip: rect(1px 1px 1px 1px);clip: rect(1px, 1px, 1px, 1px);height: 1px;margin: -1px;overflow: hidden;padding: 0;position: absolute;width: 1px;}#sk-container-id-6 div.sk-estimator {font-family: monospace;background-color: #f0f8ff;border: 1px dotted black;border-radius: 0.25em;box-sizing: border-box;margin-bottom: 0.5em;}#sk-container-id-6 div.sk-estimator:hover {background-color: #d4ebff;}#sk-container-id-6 div.sk-parallel-item::after {content: \"\";width: 100%;border-bottom: 1px solid gray;flex-grow: 1;}#sk-container-id-6 div.sk-label:hover label.sk-toggleable__label {background-color: #d4ebff;}#sk-container-id-6 div.sk-serial::before {content: \"\";position: absolute;border-left: 1px solid gray;box-sizing: border-box;top: 0;bottom: 0;left: 50%;z-index: 0;}#sk-container-id-6 div.sk-serial {display: flex;flex-direction: column;align-items: center;background-color: white;padding-right: 0.2em;padding-left: 0.2em;position: relative;}#sk-container-id-6 div.sk-item {position: relative;z-index: 1;}#sk-container-id-6 div.sk-parallel {display: flex;align-items: stretch;justify-content: center;background-color: white;position: relative;}#sk-container-id-6 div.sk-item::before, #sk-container-id-6 div.sk-parallel-item::before {content: \"\";position: absolute;border-left: 1px solid gray;box-sizing: border-box;top: 0;bottom: 0;left: 50%;z-index: -1;}#sk-container-id-6 div.sk-parallel-item {display: flex;flex-direction: column;z-index: 1;position: relative;background-color: white;}#sk-container-id-6 div.sk-parallel-item:first-child::after {align-self: flex-end;width: 50%;}#sk-container-id-6 div.sk-parallel-item:last-child::after {align-self: flex-start;width: 50%;}#sk-container-id-6 div.sk-parallel-item:only-child::after {width: 0;}#sk-container-id-6 div.sk-dashed-wrapped {border: 1px dashed gray;margin: 0 0.4em 0.5em 0.4em;box-sizing: border-box;padding-bottom: 0.4em;background-color: white;}#sk-container-id-6 div.sk-label label {font-family: monospace;font-weight: bold;display: inline-block;line-height: 1.2em;}#sk-container-id-6 div.sk-label-container {text-align: center;}#sk-container-id-6 div.sk-container {/* jupyter's `normalize.less` sets `[hidden] { display: none; }` but bootstrap.min.css set `[hidden] { display: none !important; }` so we also need the `!important` here to be able to override the default hidden behavior on the sphinx rendered scikit-learn.org. See: https://github.com/scikit-learn/scikit-learn/issues/21755 */display: inline-block !important;position: relative;}#sk-container-id-6 div.sk-text-repr-fallback {display: none;}</style><div id=\"sk-container-id-6\" class=\"sk-top-container\"><div class=\"sk-text-repr-fallback\"><pre>LGBMRegressor(max_depth=5, min_split_gain=3)</pre><b>In a Jupyter environment, please rerun this cell to show the HTML representation or trust the notebook. <br />On GitHub, the HTML representation is unable to render, please try loading this page with nbviewer.org.</b></div><div class=\"sk-container\" hidden><div class=\"sk-item\"><div class=\"sk-estimator sk-toggleable\"><input class=\"sk-toggleable__control sk-hidden--visually\" id=\"sk-estimator-id-6\" type=\"checkbox\" checked><label for=\"sk-estimator-id-6\" class=\"sk-toggleable__label sk-toggleable__label-arrow\">LGBMRegressor</label><div class=\"sk-toggleable__content\"><pre>LGBMRegressor(max_depth=5, min_split_gain=3)</pre></div></div></div></div></div>"
      ],
      "text/plain": [
       "LGBMRegressor(max_depth=5, min_split_gain=3)"
      ]
     },
     "execution_count": 16,
     "metadata": {},
     "output_type": "execute_result"
    }
   ],
   "source": [
    "import lightgbm as lgbm\n",
    "\n",
    "lgbmreg = lgbm.LGBMRegressor(\n",
    "    max_depth=5,\n",
    "    min_split_gain=3,\n",
    "    importance_type='split'\n",
    ")\n",
    "\n",
    "lgbmreg.fit(train_ls_x, train_ls_y.ravel())"
   ]
  },
  {
   "cell_type": "code",
   "execution_count": 18,
   "metadata": {},
   "outputs": [
    {
     "data": {
      "text/plain": [
       "1292.0914116352997"
      ]
     },
     "execution_count": 18,
     "metadata": {},
     "output_type": "execute_result"
    },
    {
     "ename": "",
     "evalue": "",
     "output_type": "error",
     "traceback": [
      "\u001b[1;31mThe Kernel crashed while executing code in the the current cell or a previous cell. Please review the code in the cell(s) to identify a possible cause of the failure. Click <a href='https://aka.ms/vscodeJupyterKernelCrash'>here</a> for more info. View Jupyter <a href='command:jupyter.viewOutput'>log</a> for further details."
     ]
    }
   ],
   "source": [
    "lgbmreg.predict([ls_x[-1]])[0]"
   ]
  },
  {
   "cell_type": "code",
   "execution_count": 73,
   "metadata": {},
   "outputs": [
    {
     "data": {
      "image/png": "[encoded data removed]",
      "text/plain": [
       "<Figure size 432x288 with 1 Axes>"
      ]
     },
     "metadata": {
      "needs_background": "light"
     },
     "output_type": "display_data"
    },
    {
     "name": "stdout",
     "output_type": "stream",
     "text": [
      "[1.1494989343464272, 3.1882663616451445, 2.0512705205256645]\n",
      "[ 1.3213478  10.16504239  4.20771075]\n"
     ]
    }
   ],
   "source": [
    "def simple_return(ls):\n",
    "    res = []\n",
    "    for i, s in enumerate(ls):\n",
    "        if i == 0: continue\n",
    "        res.append((s - ls[i-1])/ls[i-1])\n",
    "    return res\n",
    "\n",
    "log_return = np.diff(np.log(ls))\n",
    "simp_return = simple_return(ls)\n",
    "mix = [np.mean([l, s]) for l, s in zip(log_return, simp_return)]\n",
    "\n",
    "\n",
    "plt.plot(simp_return, label='simple return')\n",
    "plt.plot(mix, label='mix')\n",
    "plt.plot(log_return, label='log return')\n",
    "plt.legend()\n",
    "plt.show()\n",
    "sigma = list(map(np.std, [log_return, simp_return, mix]))\n",
    "print(sigma)\n",
    "var = np.square(sigma)\n",
    "print(var)"
   ]
  },
  {
   "cell_type": "code",
   "execution_count": 10,
   "metadata": {},
   "outputs": [],
   "source": [
    "import json\n",
    "import os\n",
    "\"\"\"\n",
    "# datetime object containing current date and time\n",
    "now = datetime.now()\n",
    "\n",
    "# dd/mm/YY H:M:S\n",
    "start = now.strftime(\"%d-%m-%Y_%H:%M:%S\")\n",
    "\n",
    "isExist = os.path.exists(f'{start}/')\n",
    "\n",
    "if not isExist:\n",
    "    os.mkdir(f'{start}/')\n",
    "\n",
    "d1 = {'1': 1, '2': 2}\n",
    "\n",
    "with open(f'{start}/d1.json', 'x') as file:\n",
    "    json.dump(d1, file, indent=4)\n",
    "\"\"\""
   ]
  },
  {
   "cell_type": "code",
   "execution_count": 41,
   "metadata": {},
   "outputs": [
    {
     "name": "stdout",
     "output_type": "stream",
     "text": [
      "[{'mhyper 1': 1, 'mhyper 2': (1,), 'nllll': 7, 'thres': (0.1, 0.1)},\n",
      " {'mhyper 1': 1, 'mhyper 2': (1,), 'nllll': 8, 'thres': (0.1, 0.1)},\n",
      " {'mhyper 1': 1, 'mhyper 2': (1,), 'nllll': 9, 'thres': (0.1, 0.1)},\n",
      " {'mhyper 1': 1, 'mhyper 2': (1, 2), 'nllll': 7, 'thres': (0.1, 0.1)},\n",
      " {'mhyper 1': 1, 'mhyper 2': (1, 2), 'nllll': 8, 'thres': (0.1, 0.1)},\n",
      " {'mhyper 1': 1, 'mhyper 2': (1, 2), 'nllll': 9, 'thres': (0.1, 0.1)},\n",
      " {'mhyper 1': 1, 'mhyper 2': (1, 2, 3), 'nllll': 7, 'thres': (0.1, 0.1)},\n",
      " {'mhyper 1': 1, 'mhyper 2': (1, 2, 3), 'nllll': 8, 'thres': (0.1, 0.1)},\n",
      " {'mhyper 1': 1, 'mhyper 2': (1, 2, 3), 'nllll': 9, 'thres': (0.1, 0.1)},\n",
      " {'mhyper 1': 2, 'mhyper 2': (1,), 'nllll': 7, 'thres': (0.1, 0.1)},\n",
      " {'mhyper 1': 2, 'mhyper 2': (1,), 'nllll': 8, 'thres': (0.1, 0.1)},\n",
      " {'mhyper 1': 2, 'mhyper 2': (1,), 'nllll': 9, 'thres': (0.1, 0.1)},\n",
      " {'mhyper 1': 2, 'mhyper 2': (1, 2), 'nllll': 7, 'thres': (0.1, 0.1)},\n",
      " {'mhyper 1': 2, 'mhyper 2': (1, 2), 'nllll': 8, 'thres': (0.1, 0.1)},\n",
      " {'mhyper 1': 2, 'mhyper 2': (1, 2), 'nllll': 9, 'thres': (0.1, 0.1)},\n",
      " {'mhyper 1': 2, 'mhyper 2': (1, 2, 3), 'nllll': 7, 'thres': (0.1, 0.1)},\n",
      " {'mhyper 1': 2, 'mhyper 2': (1, 2, 3), 'nllll': 8, 'thres': (0.1, 0.1)},\n",
      " {'mhyper 1': 2, 'mhyper 2': (1, 2, 3), 'nllll': 9, 'thres': (0.1, 0.1)},\n",
      " {'mhyper 1': 3, 'mhyper 2': (1,), 'nllll': 7, 'thres': (0.1, 0.1)},\n",
      " {'mhyper 1': 3, 'mhyper 2': (1,), 'nllll': 8, 'thres': (0.1, 0.1)},\n",
      " {'mhyper 1': 3, 'mhyper 2': (1,), 'nllll': 9, 'thres': (0.1, 0.1)},\n",
      " {'mhyper 1': 3, 'mhyper 2': (1, 2), 'nllll': 7, 'thres': (0.1, 0.1)},\n",
      " {'mhyper 1': 3, 'mhyper 2': (1, 2), 'nllll': 8, 'thres': (0.1, 0.1)},\n",
      " {'mhyper 1': 3, 'mhyper 2': (1, 2), 'nllll': 9, 'thres': (0.1, 0.1)},\n",
      " {'mhyper 1': 3, 'mhyper 2': (1, 2, 3), 'nllll': 7, 'thres': (0.1, 0.1)},\n",
      " {'mhyper 1': 3, 'mhyper 2': (1, 2, 3), 'nllll': 8, 'thres': (0.1, 0.1)},\n",
      " {'mhyper 1': 3, 'mhyper 2': (1, 2, 3), 'nllll': 9, 'thres': (0.1, 0.1)},\n",
      " {'mhyper 1': 1, 'mhyper 2': (1,), 'nllll': 7, 'thres': (0.1, 0.2)},\n",
      " {'mhyper 1': 1, 'mhyper 2': (1,), 'nllll': 8, 'thres': (0.1, 0.2)},\n",
      " {'mhyper 1': 1, 'mhyper 2': (1,), 'nllll': 9, 'thres': (0.1, 0.2)},\n",
      " {'mhyper 1': 1, 'mhyper 2': (1, 2), 'nllll': 7, 'thres': (0.1, 0.2)},\n",
      " {'mhyper 1': 1, 'mhyper 2': (1, 2), 'nllll': 8, 'thres': (0.1, 0.2)},\n",
      " {'mhyper 1': 1, 'mhyper 2': (1, 2), 'nllll': 9, 'thres': (0.1, 0.2)},\n",
      " {'mhyper 1': 1, 'mhyper 2': (1, 2, 3), 'nllll': 7, 'thres': (0.1, 0.2)},\n",
      " {'mhyper 1': 1, 'mhyper 2': (1, 2, 3), 'nllll': 8, 'thres': (0.1, 0.2)},\n",
      " {'mhyper 1': 1, 'mhyper 2': (1, 2, 3), 'nllll': 9, 'thres': (0.1, 0.2)},\n",
      " {'mhyper 1': 2, 'mhyper 2': (1,), 'nllll': 7, 'thres': (0.1, 0.2)},\n",
      " {'mhyper 1': 2, 'mhyper 2': (1,), 'nllll': 8, 'thres': (0.1, 0.2)},\n",
      " {'mhyper 1': 2, 'mhyper 2': (1,), 'nllll': 9, 'thres': (0.1, 0.2)},\n",
      " {'mhyper 1': 2, 'mhyper 2': (1, 2), 'nllll': 7, 'thres': (0.1, 0.2)},\n",
      " {'mhyper 1': 2, 'mhyper 2': (1, 2), 'nllll': 8, 'thres': (0.1, 0.2)},\n",
      " {'mhyper 1': 2, 'mhyper 2': (1, 2), 'nllll': 9, 'thres': (0.1, 0.2)},\n",
      " {'mhyper 1': 2, 'mhyper 2': (1, 2, 3), 'nllll': 7, 'thres': (0.1, 0.2)},\n",
      " {'mhyper 1': 2, 'mhyper 2': (1, 2, 3), 'nllll': 8, 'thres': (0.1, 0.2)},\n",
      " {'mhyper 1': 2, 'mhyper 2': (1, 2, 3), 'nllll': 9, 'thres': (0.1, 0.2)},\n",
      " {'mhyper 1': 3, 'mhyper 2': (1,), 'nllll': 7, 'thres': (0.1, 0.2)},\n",
      " {'mhyper 1': 3, 'mhyper 2': (1,), 'nllll': 8, 'thres': (0.1, 0.2)},\n",
      " {'mhyper 1': 3, 'mhyper 2': (1,), 'nllll': 9, 'thres': (0.1, 0.2)},\n",
      " {'mhyper 1': 3, 'mhyper 2': (1, 2), 'nllll': 7, 'thres': (0.1, 0.2)},\n",
      " {'mhyper 1': 3, 'mhyper 2': (1, 2), 'nllll': 8, 'thres': (0.1, 0.2)},\n",
      " {'mhyper 1': 3, 'mhyper 2': (1, 2), 'nllll': 9, 'thres': (0.1, 0.2)},\n",
      " {'mhyper 1': 3, 'mhyper 2': (1, 2, 3), 'nllll': 7, 'thres': (0.1, 0.2)},\n",
      " {'mhyper 1': 3, 'mhyper 2': (1, 2, 3), 'nllll': 8, 'thres': (0.1, 0.2)},\n",
      " {'mhyper 1': 3, 'mhyper 2': (1, 2, 3), 'nllll': 9, 'thres': (0.1, 0.2)},\n",
      " {'mhyper 1': 1, 'mhyper 2': (1,), 'nllll': 7, 'thres': (0.1, 0.3)},\n",
      " {'mhyper 1': 1, 'mhyper 2': (1,), 'nllll': 8, 'thres': (0.1, 0.3)},\n",
      " {'mhyper 1': 1, 'mhyper 2': (1,), 'nllll': 9, 'thres': (0.1, 0.3)},\n",
      " {'mhyper 1': 1, 'mhyper 2': (1, 2), 'nllll': 7, 'thres': (0.1, 0.3)},\n",
      " {'mhyper 1': 1, 'mhyper 2': (1, 2), 'nllll': 8, 'thres': (0.1, 0.3)},\n",
      " {'mhyper 1': 1, 'mhyper 2': (1, 2), 'nllll': 9, 'thres': (0.1, 0.3)},\n",
      " {'mhyper 1': 1, 'mhyper 2': (1, 2, 3), 'nllll': 7, 'thres': (0.1, 0.3)},\n",
      " {'mhyper 1': 1, 'mhyper 2': (1, 2, 3), 'nllll': 8, 'thres': (0.1, 0.3)},\n",
      " {'mhyper 1': 1, 'mhyper 2': (1, 2, 3), 'nllll': 9, 'thres': (0.1, 0.3)},\n",
      " {'mhyper 1': 2, 'mhyper 2': (1,), 'nllll': 7, 'thres': (0.1, 0.3)},\n",
      " {'mhyper 1': 2, 'mhyper 2': (1,), 'nllll': 8, 'thres': (0.1, 0.3)},\n",
      " {'mhyper 1': 2, 'mhyper 2': (1,), 'nllll': 9, 'thres': (0.1, 0.3)},\n",
      " {'mhyper 1': 2, 'mhyper 2': (1, 2), 'nllll': 7, 'thres': (0.1, 0.3)},\n",
      " {'mhyper 1': 2, 'mhyper 2': (1, 2), 'nllll': 8, 'thres': (0.1, 0.3)},\n",
      " {'mhyper 1': 2, 'mhyper 2': (1, 2), 'nllll': 9, 'thres': (0.1, 0.3)},\n",
      " {'mhyper 1': 2, 'mhyper 2': (1, 2, 3), 'nllll': 7, 'thres': (0.1, 0.3)},\n",
      " {'mhyper 1': 2, 'mhyper 2': (1, 2, 3), 'nllll': 8, 'thres': (0.1, 0.3)},\n",
      " {'mhyper 1': 2, 'mhyper 2': (1, 2, 3), 'nllll': 9, 'thres': (0.1, 0.3)},\n",
      " {'mhyper 1': 3, 'mhyper 2': (1,), 'nllll': 7, 'thres': (0.1, 0.3)},\n",
      " {'mhyper 1': 3, 'mhyper 2': (1,), 'nllll': 8, 'thres': (0.1, 0.3)},\n",
      " {'mhyper 1': 3, 'mhyper 2': (1,), 'nllll': 9, 'thres': (0.1, 0.3)},\n",
      " {'mhyper 1': 3, 'mhyper 2': (1, 2), 'nllll': 7, 'thres': (0.1, 0.3)},\n",
      " {'mhyper 1': 3, 'mhyper 2': (1, 2), 'nllll': 8, 'thres': (0.1, 0.3)},\n",
      " {'mhyper 1': 3, 'mhyper 2': (1, 2), 'nllll': 9, 'thres': (0.1, 0.3)},\n",
      " {'mhyper 1': 3, 'mhyper 2': (1, 2, 3), 'nllll': 7, 'thres': (0.1, 0.3)},\n",
      " {'mhyper 1': 3, 'mhyper 2': (1, 2, 3), 'nllll': 8, 'thres': (0.1, 0.3)},\n",
      " {'mhyper 1': 3, 'mhyper 2': (1, 2, 3), 'nllll': 9, 'thres': (0.1, 0.3)},\n",
      " {'mhyper 1': 1, 'mhyper 2': (1,), 'nllll': 7, 'thres': (0.2, 0.1)},\n",
      " {'mhyper 1': 1, 'mhyper 2': (1,), 'nllll': 8, 'thres': (0.2, 0.1)},\n",
      " {'mhyper 1': 1, 'mhyper 2': (1,), 'nllll': 9, 'thres': (0.2, 0.1)},\n",
      " {'mhyper 1': 1, 'mhyper 2': (1, 2), 'nllll': 7, 'thres': (0.2, 0.1)},\n",
      " {'mhyper 1': 1, 'mhyper 2': (1, 2), 'nllll': 8, 'thres': (0.2, 0.1)},\n",
      " {'mhyper 1': 1, 'mhyper 2': (1, 2), 'nllll': 9, 'thres': (0.2, 0.1)},\n",
      " {'mhyper 1': 1, 'mhyper 2': (1, 2, 3), 'nllll': 7, 'thres': (0.2, 0.1)},\n",
      " {'mhyper 1': 1, 'mhyper 2': (1, 2, 3), 'nllll': 8, 'thres': (0.2, 0.1)},\n",
      " {'mhyper 1': 1, 'mhyper 2': (1, 2, 3), 'nllll': 9, 'thres': (0.2, 0.1)},\n",
      " {'mhyper 1': 2, 'mhyper 2': (1,), 'nllll': 7, 'thres': (0.2, 0.1)},\n",
      " {'mhyper 1': 2, 'mhyper 2': (1,), 'nllll': 8, 'thres': (0.2, 0.1)},\n",
      " {'mhyper 1': 2, 'mhyper 2': (1,), 'nllll': 9, 'thres': (0.2, 0.1)},\n",
      " {'mhyper 1': 2, 'mhyper 2': (1, 2), 'nllll': 7, 'thres': (0.2, 0.1)},\n",
      " {'mhyper 1': 2, 'mhyper 2': (1, 2), 'nllll': 8, 'thres': (0.2, 0.1)},\n",
      " {'mhyper 1': 2, 'mhyper 2': (1, 2), 'nllll': 9, 'thres': (0.2, 0.1)},\n",
      " {'mhyper 1': 2, 'mhyper 2': (1, 2, 3), 'nllll': 7, 'thres': (0.2, 0.1)},\n",
      " {'mhyper 1': 2, 'mhyper 2': (1, 2, 3), 'nllll': 8, 'thres': (0.2, 0.1)},\n",
      " {'mhyper 1': 2, 'mhyper 2': (1, 2, 3), 'nllll': 9, 'thres': (0.2, 0.1)},\n",
      " {'mhyper 1': 3, 'mhyper 2': (1,), 'nllll': 7, 'thres': (0.2, 0.1)},\n",
      " {'mhyper 1': 3, 'mhyper 2': (1,), 'nllll': 8, 'thres': (0.2, 0.1)},\n",
      " {'mhyper 1': 3, 'mhyper 2': (1,), 'nllll': 9, 'thres': (0.2, 0.1)},\n",
      " {'mhyper 1': 3, 'mhyper 2': (1, 2), 'nllll': 7, 'thres': (0.2, 0.1)},\n",
      " {'mhyper 1': 3, 'mhyper 2': (1, 2), 'nllll': 8, 'thres': (0.2, 0.1)},\n",
      " {'mhyper 1': 3, 'mhyper 2': (1, 2), 'nllll': 9, 'thres': (0.2, 0.1)},\n",
      " {'mhyper 1': 3, 'mhyper 2': (1, 2, 3), 'nllll': 7, 'thres': (0.2, 0.1)},\n",
      " {'mhyper 1': 3, 'mhyper 2': (1, 2, 3), 'nllll': 8, 'thres': (0.2, 0.1)},\n",
      " {'mhyper 1': 3, 'mhyper 2': (1, 2, 3), 'nllll': 9, 'thres': (0.2, 0.1)},\n",
      " {'mhyper 1': 1, 'mhyper 2': (1,), 'nllll': 7, 'thres': (0.2, 0.2)},\n",
      " {'mhyper 1': 1, 'mhyper 2': (1,), 'nllll': 8, 'thres': (0.2, 0.2)},\n",
      " {'mhyper 1': 1, 'mhyper 2': (1,), 'nllll': 9, 'thres': (0.2, 0.2)},\n",
      " {'mhyper 1': 1, 'mhyper 2': (1, 2), 'nllll': 7, 'thres': (0.2, 0.2)},\n",
      " {'mhyper 1': 1, 'mhyper 2': (1, 2), 'nllll': 8, 'thres': (0.2, 0.2)},\n",
      " {'mhyper 1': 1, 'mhyper 2': (1, 2), 'nllll': 9, 'thres': (0.2, 0.2)},\n",
      " {'mhyper 1': 1, 'mhyper 2': (1, 2, 3), 'nllll': 7, 'thres': (0.2, 0.2)},\n",
      " {'mhyper 1': 1, 'mhyper 2': (1, 2, 3), 'nllll': 8, 'thres': (0.2, 0.2)},\n",
      " {'mhyper 1': 1, 'mhyper 2': (1, 2, 3), 'nllll': 9, 'thres': (0.2, 0.2)},\n",
      " {'mhyper 1': 2, 'mhyper 2': (1,), 'nllll': 7, 'thres': (0.2, 0.2)},\n",
      " {'mhyper 1': 2, 'mhyper 2': (1,), 'nllll': 8, 'thres': (0.2, 0.2)},\n",
      " {'mhyper 1': 2, 'mhyper 2': (1,), 'nllll': 9, 'thres': (0.2, 0.2)},\n",
      " {'mhyper 1': 2, 'mhyper 2': (1, 2), 'nllll': 7, 'thres': (0.2, 0.2)},\n",
      " {'mhyper 1': 2, 'mhyper 2': (1, 2), 'nllll': 8, 'thres': (0.2, 0.2)},\n",
      " {'mhyper 1': 2, 'mhyper 2': (1, 2), 'nllll': 9, 'thres': (0.2, 0.2)},\n",
      " {'mhyper 1': 2, 'mhyper 2': (1, 2, 3), 'nllll': 7, 'thres': (0.2, 0.2)},\n",
      " {'mhyper 1': 2, 'mhyper 2': (1, 2, 3), 'nllll': 8, 'thres': (0.2, 0.2)},\n",
      " {'mhyper 1': 2, 'mhyper 2': (1, 2, 3), 'nllll': 9, 'thres': (0.2, 0.2)},\n",
      " {'mhyper 1': 3, 'mhyper 2': (1,), 'nllll': 7, 'thres': (0.2, 0.2)},\n",
      " {'mhyper 1': 3, 'mhyper 2': (1,), 'nllll': 8, 'thres': (0.2, 0.2)},\n",
      " {'mhyper 1': 3, 'mhyper 2': (1,), 'nllll': 9, 'thres': (0.2, 0.2)},\n",
      " {'mhyper 1': 3, 'mhyper 2': (1, 2), 'nllll': 7, 'thres': (0.2, 0.2)},\n",
      " {'mhyper 1': 3, 'mhyper 2': (1, 2), 'nllll': 8, 'thres': (0.2, 0.2)},\n",
      " {'mhyper 1': 3, 'mhyper 2': (1, 2), 'nllll': 9, 'thres': (0.2, 0.2)},\n",
      " {'mhyper 1': 3, 'mhyper 2': (1, 2, 3), 'nllll': 7, 'thres': (0.2, 0.2)},\n",
      " {'mhyper 1': 3, 'mhyper 2': (1, 2, 3), 'nllll': 8, 'thres': (0.2, 0.2)},\n",
      " {'mhyper 1': 3, 'mhyper 2': (1, 2, 3), 'nllll': 9, 'thres': (0.2, 0.2)},\n",
      " {'mhyper 1': 1, 'mhyper 2': (1,), 'nllll': 7, 'thres': (0.2, 0.3)},\n",
      " {'mhyper 1': 1, 'mhyper 2': (1,), 'nllll': 8, 'thres': (0.2, 0.3)},\n",
      " {'mhyper 1': 1, 'mhyper 2': (1,), 'nllll': 9, 'thres': (0.2, 0.3)},\n",
      " {'mhyper 1': 1, 'mhyper 2': (1, 2), 'nllll': 7, 'thres': (0.2, 0.3)},\n",
      " {'mhyper 1': 1, 'mhyper 2': (1, 2), 'nllll': 8, 'thres': (0.2, 0.3)},\n",
      " {'mhyper 1': 1, 'mhyper 2': (1, 2), 'nllll': 9, 'thres': (0.2, 0.3)},\n",
      " {'mhyper 1': 1, 'mhyper 2': (1, 2, 3), 'nllll': 7, 'thres': (0.2, 0.3)},\n",
      " {'mhyper 1': 1, 'mhyper 2': (1, 2, 3), 'nllll': 8, 'thres': (0.2, 0.3)},\n",
      " {'mhyper 1': 1, 'mhyper 2': (1, 2, 3), 'nllll': 9, 'thres': (0.2, 0.3)},\n",
      " {'mhyper 1': 2, 'mhyper 2': (1,), 'nllll': 7, 'thres': (0.2, 0.3)},\n",
      " {'mhyper 1': 2, 'mhyper 2': (1,), 'nllll': 8, 'thres': (0.2, 0.3)},\n",
      " {'mhyper 1': 2, 'mhyper 2': (1,), 'nllll': 9, 'thres': (0.2, 0.3)},\n",
      " {'mhyper 1': 2, 'mhyper 2': (1, 2), 'nllll': 7, 'thres': (0.2, 0.3)},\n",
      " {'mhyper 1': 2, 'mhyper 2': (1, 2), 'nllll': 8, 'thres': (0.2, 0.3)},\n",
      " {'mhyper 1': 2, 'mhyper 2': (1, 2), 'nllll': 9, 'thres': (0.2, 0.3)},\n",
      " {'mhyper 1': 2, 'mhyper 2': (1, 2, 3), 'nllll': 7, 'thres': (0.2, 0.3)},\n",
      " {'mhyper 1': 2, 'mhyper 2': (1, 2, 3), 'nllll': 8, 'thres': (0.2, 0.3)},\n",
      " {'mhyper 1': 2, 'mhyper 2': (1, 2, 3), 'nllll': 9, 'thres': (0.2, 0.3)},\n",
      " {'mhyper 1': 3, 'mhyper 2': (1,), 'nllll': 7, 'thres': (0.2, 0.3)},\n",
      " {'mhyper 1': 3, 'mhyper 2': (1,), 'nllll': 8, 'thres': (0.2, 0.3)},\n",
      " {'mhyper 1': 3, 'mhyper 2': (1,), 'nllll': 9, 'thres': (0.2, 0.3)},\n",
      " {'mhyper 1': 3, 'mhyper 2': (1, 2), 'nllll': 7, 'thres': (0.2, 0.3)},\n",
      " {'mhyper 1': 3, 'mhyper 2': (1, 2), 'nllll': 8, 'thres': (0.2, 0.3)},\n",
      " {'mhyper 1': 3, 'mhyper 2': (1, 2), 'nllll': 9, 'thres': (0.2, 0.3)},\n",
      " {'mhyper 1': 3, 'mhyper 2': (1, 2, 3), 'nllll': 7, 'thres': (0.2, 0.3)},\n",
      " {'mhyper 1': 3, 'mhyper 2': (1, 2, 3), 'nllll': 8, 'thres': (0.2, 0.3)},\n",
      " {'mhyper 1': 3, 'mhyper 2': (1, 2, 3), 'nllll': 9, 'thres': (0.2, 0.3)},\n",
      " {'mhyper 1': 1, 'mhyper 2': (1,), 'nllll': 7, 'thres': (0.3, 0.1)},\n",
      " {'mhyper 1': 1, 'mhyper 2': (1,), 'nllll': 8, 'thres': (0.3, 0.1)},\n",
      " {'mhyper 1': 1, 'mhyper 2': (1,), 'nllll': 9, 'thres': (0.3, 0.1)},\n",
      " {'mhyper 1': 1, 'mhyper 2': (1, 2), 'nllll': 7, 'thres': (0.3, 0.1)},\n",
      " {'mhyper 1': 1, 'mhyper 2': (1, 2), 'nllll': 8, 'thres': (0.3, 0.1)},\n",
      " {'mhyper 1': 1, 'mhyper 2': (1, 2), 'nllll': 9, 'thres': (0.3, 0.1)},\n",
      " {'mhyper 1': 1, 'mhyper 2': (1, 2, 3), 'nllll': 7, 'thres': (0.3, 0.1)},\n",
      " {'mhyper 1': 1, 'mhyper 2': (1, 2, 3), 'nllll': 8, 'thres': (0.3, 0.1)},\n",
      " {'mhyper 1': 1, 'mhyper 2': (1, 2, 3), 'nllll': 9, 'thres': (0.3, 0.1)},\n",
      " {'mhyper 1': 2, 'mhyper 2': (1,), 'nllll': 7, 'thres': (0.3, 0.1)},\n",
      " {'mhyper 1': 2, 'mhyper 2': (1,), 'nllll': 8, 'thres': (0.3, 0.1)},\n",
      " {'mhyper 1': 2, 'mhyper 2': (1,), 'nllll': 9, 'thres': (0.3, 0.1)},\n",
      " {'mhyper 1': 2, 'mhyper 2': (1, 2), 'nllll': 7, 'thres': (0.3, 0.1)},\n",
      " {'mhyper 1': 2, 'mhyper 2': (1, 2), 'nllll': 8, 'thres': (0.3, 0.1)},\n",
      " {'mhyper 1': 2, 'mhyper 2': (1, 2), 'nllll': 9, 'thres': (0.3, 0.1)},\n",
      " {'mhyper 1': 2, 'mhyper 2': (1, 2, 3), 'nllll': 7, 'thres': (0.3, 0.1)},\n",
      " {'mhyper 1': 2, 'mhyper 2': (1, 2, 3), 'nllll': 8, 'thres': (0.3, 0.1)},\n",
      " {'mhyper 1': 2, 'mhyper 2': (1, 2, 3), 'nllll': 9, 'thres': (0.3, 0.1)},\n",
      " {'mhyper 1': 3, 'mhyper 2': (1,), 'nllll': 7, 'thres': (0.3, 0.1)},\n",
      " {'mhyper 1': 3, 'mhyper 2': (1,), 'nllll': 8, 'thres': (0.3, 0.1)},\n",
      " {'mhyper 1': 3, 'mhyper 2': (1,), 'nllll': 9, 'thres': (0.3, 0.1)},\n",
      " {'mhyper 1': 3, 'mhyper 2': (1, 2), 'nllll': 7, 'thres': (0.3, 0.1)},\n",
      " {'mhyper 1': 3, 'mhyper 2': (1, 2), 'nllll': 8, 'thres': (0.3, 0.1)},\n",
      " {'mhyper 1': 3, 'mhyper 2': (1, 2), 'nllll': 9, 'thres': (0.3, 0.1)},\n",
      " {'mhyper 1': 3, 'mhyper 2': (1, 2, 3), 'nllll': 7, 'thres': (0.3, 0.1)},\n",
      " {'mhyper 1': 3, 'mhyper 2': (1, 2, 3), 'nllll': 8, 'thres': (0.3, 0.1)},\n",
      " {'mhyper 1': 3, 'mhyper 2': (1, 2, 3), 'nllll': 9, 'thres': (0.3, 0.1)},\n",
      " {'mhyper 1': 1, 'mhyper 2': (1,), 'nllll': 7, 'thres': (0.3, 0.2)},\n",
      " {'mhyper 1': 1, 'mhyper 2': (1,), 'nllll': 8, 'thres': (0.3, 0.2)},\n",
      " {'mhyper 1': 1, 'mhyper 2': (1,), 'nllll': 9, 'thres': (0.3, 0.2)},\n",
      " {'mhyper 1': 1, 'mhyper 2': (1, 2), 'nllll': 7, 'thres': (0.3, 0.2)},\n",
      " {'mhyper 1': 1, 'mhyper 2': (1, 2), 'nllll': 8, 'thres': (0.3, 0.2)},\n",
      " {'mhyper 1': 1, 'mhyper 2': (1, 2), 'nllll': 9, 'thres': (0.3, 0.2)},\n",
      " {'mhyper 1': 1, 'mhyper 2': (1, 2, 3), 'nllll': 7, 'thres': (0.3, 0.2)},\n",
      " {'mhyper 1': 1, 'mhyper 2': (1, 2, 3), 'nllll': 8, 'thres': (0.3, 0.2)},\n",
      " {'mhyper 1': 1, 'mhyper 2': (1, 2, 3), 'nllll': 9, 'thres': (0.3, 0.2)},\n",
      " {'mhyper 1': 2, 'mhyper 2': (1,), 'nllll': 7, 'thres': (0.3, 0.2)},\n",
      " {'mhyper 1': 2, 'mhyper 2': (1,), 'nllll': 8, 'thres': (0.3, 0.2)},\n",
      " {'mhyper 1': 2, 'mhyper 2': (1,), 'nllll': 9, 'thres': (0.3, 0.2)},\n",
      " {'mhyper 1': 2, 'mhyper 2': (1, 2), 'nllll': 7, 'thres': (0.3, 0.2)},\n",
      " {'mhyper 1': 2, 'mhyper 2': (1, 2), 'nllll': 8, 'thres': (0.3, 0.2)},\n",
      " {'mhyper 1': 2, 'mhyper 2': (1, 2), 'nllll': 9, 'thres': (0.3, 0.2)},\n",
      " {'mhyper 1': 2, 'mhyper 2': (1, 2, 3), 'nllll': 7, 'thres': (0.3, 0.2)},\n",
      " {'mhyper 1': 2, 'mhyper 2': (1, 2, 3), 'nllll': 8, 'thres': (0.3, 0.2)},\n",
      " {'mhyper 1': 2, 'mhyper 2': (1, 2, 3), 'nllll': 9, 'thres': (0.3, 0.2)},\n",
      " {'mhyper 1': 3, 'mhyper 2': (1,), 'nllll': 7, 'thres': (0.3, 0.2)},\n",
      " {'mhyper 1': 3, 'mhyper 2': (1,), 'nllll': 8, 'thres': (0.3, 0.2)},\n",
      " {'mhyper 1': 3, 'mhyper 2': (1,), 'nllll': 9, 'thres': (0.3, 0.2)},\n",
      " {'mhyper 1': 3, 'mhyper 2': (1, 2), 'nllll': 7, 'thres': (0.3, 0.2)},\n",
      " {'mhyper 1': 3, 'mhyper 2': (1, 2), 'nllll': 8, 'thres': (0.3, 0.2)},\n",
      " {'mhyper 1': 3, 'mhyper 2': (1, 2), 'nllll': 9, 'thres': (0.3, 0.2)},\n",
      " {'mhyper 1': 3, 'mhyper 2': (1, 2, 3), 'nllll': 7, 'thres': (0.3, 0.2)},\n",
      " {'mhyper 1': 3, 'mhyper 2': (1, 2, 3), 'nllll': 8, 'thres': (0.3, 0.2)},\n",
      " {'mhyper 1': 3, 'mhyper 2': (1, 2, 3), 'nllll': 9, 'thres': (0.3, 0.2)},\n",
      " {'mhyper 1': 1, 'mhyper 2': (1,), 'nllll': 7, 'thres': (0.3, 0.3)},\n",
      " {'mhyper 1': 1, 'mhyper 2': (1,), 'nllll': 8, 'thres': (0.3, 0.3)},\n",
      " {'mhyper 1': 1, 'mhyper 2': (1,), 'nllll': 9, 'thres': (0.3, 0.3)},\n",
      " {'mhyper 1': 1, 'mhyper 2': (1, 2), 'nllll': 7, 'thres': (0.3, 0.3)},\n",
      " {'mhyper 1': 1, 'mhyper 2': (1, 2), 'nllll': 8, 'thres': (0.3, 0.3)},\n",
      " {'mhyper 1': 1, 'mhyper 2': (1, 2), 'nllll': 9, 'thres': (0.3, 0.3)},\n",
      " {'mhyper 1': 1, 'mhyper 2': (1, 2, 3), 'nllll': 7, 'thres': (0.3, 0.3)},\n",
      " {'mhyper 1': 1, 'mhyper 2': (1, 2, 3), 'nllll': 8, 'thres': (0.3, 0.3)},\n",
      " {'mhyper 1': 1, 'mhyper 2': (1, 2, 3), 'nllll': 9, 'thres': (0.3, 0.3)},\n",
      " {'mhyper 1': 2, 'mhyper 2': (1,), 'nllll': 7, 'thres': (0.3, 0.3)},\n",
      " {'mhyper 1': 2, 'mhyper 2': (1,), 'nllll': 8, 'thres': (0.3, 0.3)},\n",
      " {'mhyper 1': 2, 'mhyper 2': (1,), 'nllll': 9, 'thres': (0.3, 0.3)},\n",
      " {'mhyper 1': 2, 'mhyper 2': (1, 2), 'nllll': 7, 'thres': (0.3, 0.3)},\n",
      " {'mhyper 1': 2, 'mhyper 2': (1, 2), 'nllll': 8, 'thres': (0.3, 0.3)},\n",
      " {'mhyper 1': 2, 'mhyper 2': (1, 2), 'nllll': 9, 'thres': (0.3, 0.3)},\n",
      " {'mhyper 1': 2, 'mhyper 2': (1, 2, 3), 'nllll': 7, 'thres': (0.3, 0.3)},\n",
      " {'mhyper 1': 2, 'mhyper 2': (1, 2, 3), 'nllll': 8, 'thres': (0.3, 0.3)},\n",
      " {'mhyper 1': 2, 'mhyper 2': (1, 2, 3), 'nllll': 9, 'thres': (0.3, 0.3)},\n",
      " {'mhyper 1': 3, 'mhyper 2': (1,), 'nllll': 7, 'thres': (0.3, 0.3)},\n",
      " {'mhyper 1': 3, 'mhyper 2': (1,), 'nllll': 8, 'thres': (0.3, 0.3)},\n",
      " {'mhyper 1': 3, 'mhyper 2': (1,), 'nllll': 9, 'thres': (0.3, 0.3)},\n",
      " {'mhyper 1': 3, 'mhyper 2': (1, 2), 'nllll': 7, 'thres': (0.3, 0.3)},\n",
      " {'mhyper 1': 3, 'mhyper 2': (1, 2), 'nllll': 8, 'thres': (0.3, 0.3)},\n",
      " {'mhyper 1': 3, 'mhyper 2': (1, 2), 'nllll': 9, 'thres': (0.3, 0.3)},\n",
      " {'mhyper 1': 3, 'mhyper 2': (1, 2, 3), 'nllll': 7, 'thres': (0.3, 0.3)},\n",
      " {'mhyper 1': 3, 'mhyper 2': (1, 2, 3), 'nllll': 8, 'thres': (0.3, 0.3)},\n",
      " {'mhyper 1': 3, 'mhyper 2': (1, 2, 3), 'nllll': 9, 'thres': (0.3, 0.3)}]\n"
     ]
    }
   ],
   "source": [
    "import itertools\n",
    "\n",
    "h = {\n",
    "    '1': [1, 2, 3],\n",
    "    '2': [(1, ), (1, 2), (1, 2, 3)]\n",
    "}\n",
    "\n",
    "tre = [0.1, 0.2, 0.3]\n",
    "\n",
    "tres = list(itertools.product(tre, tre))\n",
    "\n",
    "k = [(0.1, 0.2), (0.3, 0.4), (0.5, 0.6)]\n",
    "\n",
    "nl = [7, 8, 9]\n",
    "\n",
    "hs = [\n",
    "    {\n",
    "        'thres': hkk[0],\n",
    "        'mhyper 1': hkk[1],\n",
    "        'mhyper 2': hkk[2],\n",
    "        'nllll': hkk[3]\n",
    "    } for hkk in itertools.product(tres, *h.values(), nl)]\n",
    "pprint(hs)"
   ]
  },
  {
   "cell_type": "code",
   "execution_count": 44,
   "metadata": {},
   "outputs": [
    {
     "name": "stdout",
     "output_type": "stream",
     "text": [
      "{0: 1, 2: 1} {0: 0, 1: 0, 2: 0}\n"
     ]
    }
   ],
   "source": [
    "nl = [{j: i for j in range(3)} for i in range(5)]\n",
    "\n",
    "b = nl[1]\n",
    "t = nl[0]\n",
    "\n",
    "del b[1]\n",
    "print(b, t)"
   ]
  },
  {
   "cell_type": "code",
   "execution_count": 7,
   "metadata": {},
   "outputs": [
    {
     "name": "stdout",
     "output_type": "stream",
     "text": [
      "((0.1, 0.1), 1, (1,))\n",
      "0.1 0.1\n",
      "(1, (1,))\n"
     ]
    }
   ],
   "source": [
    "print(hs[0])\n",
    "print(hs[0][0][0], hs[0][0][1])\n",
    "print(hs[0][1:])"
   ]
  },
  {
   "cell_type": "markdown",
   "metadata": {},
   "source": [
    "# validation, test demo"
   ]
  },
  {
   "cell_type": "code",
   "execution_count": 4,
   "metadata": {},
   "outputs": [
    {
     "name": "stdout",
     "output_type": "stream",
     "text": [
      "array([[0.9, 1.8, 2.7],\n",
      "       [1.8, 2.7, 3.6],\n",
      "       [2.7, 3.6, 4.5],\n",
      "       [3.6, 4.5, 5.4]])\n",
      "array([[3.6],\n",
      "       [4.5],\n",
      "       [5.4],\n",
      "       [6.3]])\n",
      "[4.5, 5.4, 6.3]\n",
      "[8]\n",
      "[1, 2, 3, 4, 5, 6, 7]\n",
      "array([[0.9, 1.8, 2.7],\n",
      "       [1.8, 2.7, 3.6],\n",
      "       [2.7, 3.6, 4.5],\n",
      "       [3.6, 4.5, 5.4],\n",
      "       [4.5, 5.4, 6.3]])\n",
      "array([[3.6],\n",
      "       [4.5],\n",
      "       [5.4],\n",
      "       [6.3],\n",
      "       [7.2]])\n",
      "[5.4, 6.3, 7.2]\n",
      "[9]\n",
      "[1, 2, 3, 4, 5, 6, 7, 8]\n",
      "array([[0.9, 1.8, 2.7],\n",
      "       [1.8, 2.7, 3.6],\n",
      "       [2.7, 3.6, 4.5],\n",
      "       [3.6, 4.5, 5.4],\n",
      "       [4.5, 5.4, 6.3],\n",
      "       [5.4, 6.3, 7.2]])\n",
      "array([[3.6],\n",
      "       [4.5],\n",
      "       [5.4],\n",
      "       [6.3],\n",
      "       [7.2],\n",
      "       [8.1]])\n",
      "[6.3, 7.2, 8.1]\n",
      "[10]\n",
      "[1, 2, 3, 4, 5, 6, 7, 8, 9]\n"
     ]
    }
   ],
   "source": [
    "ts = [1, 2, 3, 4, 5, 6, 7, 8, 9, 10, 11, 12, 13]\n",
    "\n",
    "n_val = 3\n",
    "n_test = 3\n",
    "n_lag = 3\n",
    "h = 1\n",
    "\n",
    "split = n_val + n_test\n",
    "\n",
    "for i in range(n_val):\n",
    "    train_v = ts[:-split+1+i]\n",
    "    train = train_v[:-h]\n",
    "    val = train_v[-h:]\n",
    "    ttrain = [t*0.9 for t in train] # transformation\n",
    "    # ttrain = train\n",
    "    tX, ty = data_prep.ts_prep(ttrain, nlag=n_lag, horizon=h)\n",
    "    ttrainx, tvalx = tX, ttrain[-n_lag:]\n",
    "    ttrainy, valy = ty, val\n",
    "\n",
    "    pprint(ttrainx)\n",
    "    pprint(ttrainy)\n",
    "    pprint(tvalx)\n",
    "    pprint(valy)\n",
    "    print(train)\n"
   ]
  },
  {
   "cell_type": "code",
   "execution_count": 13,
   "metadata": {},
   "outputs": [
    {
     "name": "stdout",
     "output_type": "stream",
     "text": [
      "array([[1, 2, 3],\n",
      "       [2, 3, 4],\n",
      "       [3, 4, 5],\n",
      "       [4, 5, 6],\n",
      "       [5, 6, 7],\n",
      "       [6, 7, 8],\n",
      "       [7, 8, 9]])\n",
      "array([[ 4],\n",
      "       [ 5],\n",
      "       [ 6],\n",
      "       [ 7],\n",
      "       [ 8],\n",
      "       [ 9],\n",
      "       [10]])\n",
      "array([ 8,  9, 10])\n",
      "11\n",
      "[1, 2, 3, 4, 5, 6, 7, 8, 9, 10, 11]\n",
      "array([[ 1,  2,  3],\n",
      "       [ 2,  3,  4],\n",
      "       [ 3,  4,  5],\n",
      "       [ 4,  5,  6],\n",
      "       [ 5,  6,  7],\n",
      "       [ 6,  7,  8],\n",
      "       [ 7,  8,  9],\n",
      "       [ 8,  9, 10]])\n",
      "array([[ 4],\n",
      "       [ 5],\n",
      "       [ 6],\n",
      "       [ 7],\n",
      "       [ 8],\n",
      "       [ 9],\n",
      "       [10],\n",
      "       [11]])\n",
      "array([ 9, 10, 11])\n",
      "12\n",
      "[1, 2, 3, 4, 5, 6, 7, 8, 9, 10, 11, 12]\n",
      "array([[ 1,  2,  3],\n",
      "       [ 2,  3,  4],\n",
      "       [ 3,  4,  5],\n",
      "       [ 4,  5,  6],\n",
      "       [ 5,  6,  7],\n",
      "       [ 6,  7,  8],\n",
      "       [ 7,  8,  9],\n",
      "       [ 8,  9, 10],\n",
      "       [ 9, 10, 11]])\n",
      "array([[ 4],\n",
      "       [ 5],\n",
      "       [ 6],\n",
      "       [ 7],\n",
      "       [ 8],\n",
      "       [ 9],\n",
      "       [10],\n",
      "       [11],\n",
      "       [12]])\n",
      "array([10, 11, 12])\n",
      "13\n",
      "[1, 2, 3, 4, 5, 6, 7, 8, 9, 10, 11, 12, 13]\n"
     ]
    }
   ],
   "source": [
    "for i in range(n_test):\n",
    "    if i == n_test-1:\n",
    "        train = ts\n",
    "    else:\n",
    "        train = ts[:-n_test+1+i]\n",
    "\n",
    "    # ttrain = [t*0.9 for t in train] # transformation\n",
    "    tX, ty = data_prep.ts_prep(train, nlag=n_lag, horizon=h)\n",
    "    ttrainx, ttestx = tX[:-1], tX[-1]\n",
    "    ttrainy, testy = ty[:-1], train[-h]\n",
    "\n",
    "    pprint(ttrainx)\n",
    "    pprint(ttrainy)\n",
    "    pprint(ttestx)\n",
    "    pprint(testy)\n",
    "    print(train)"
   ]
  },
  {
   "cell_type": "code",
   "execution_count": 75,
   "metadata": {},
   "outputs": [
    {
     "data": {
      "text/plain": [
       "0.10526315789473684"
      ]
     },
     "execution_count": 75,
     "metadata": {},
     "output_type": "execute_result"
    }
   ],
   "source": [
    "measure = {'SAPE': lambda y, y_hat: np.abs(y_hat-y)/np.mean((np.abs(y_hat), np.abs(y)))}\n",
    "\n",
    "k = np.array([10])[0]\n",
    "measure['SAPE'](9, k)"
   ]
  }
 ],
 "metadata": {
  "kernelspec": {
   "display_name": "Python 3.8.10 ('dclab01')",
   "language": "python",
   "name": "python3"
  },
  "language_info": {
   "codemirror_mode": {
    "name": "ipython",
    "version": 3
   },
   "file_extension": ".py",
   "mimetype": "text/x-python",
   "name": "python",
   "nbconvert_exporter": "python",
   "pygments_lexer": "ipython3",
   "version": "3.8.10"
  },
  "orig_nbformat": 4,
  "vscode": {
   "interpreter": {
    "hash": "f8df12e800dc0afce42210d205da767d13e289e863d5e93a758c7db2312af677"
   }
  }
 },
 "nbformat": 4,
 "nbformat_minor": 2
}
